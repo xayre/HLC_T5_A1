{
 "cells": [
  {
   "cell_type": "code",
   "execution_count": 24,
   "id": "abfd0a0e-3997-4b3f-8c47-74d228668318",
   "metadata": {},
   "outputs": [
    {
     "name": "stdout",
     "output_type": "stream",
     "text": [
      "Hola, Mariajo\n"
     ]
    }
   ],
   "source": [
    "nombre = input(\"¿Cómo te llamas? \")\n",
    "print(\"Hola,\",nombre)"
   ]
  },
  {
   "cell_type": "code",
   "execution_count": 25,
   "id": "42032ffa-0186-4ac5-9624-90baf61d8968",
   "metadata": {},
   "outputs": [
    {
     "name": "stdout",
     "output_type": "stream",
     "text": [
      "Resultado: 10.0\n"
     ]
    }
   ],
   "source": [
    "a = float(input(\"Ingresa un numero:\"))\n",
    "\n",
    "b = float(input(\"Ingresa otro numero:\"))\n",
    "\n",
    "Suma = a+b\n",
    "\n",
    "print(\"Resultado:\", Suma)"
   ]
  },
  {
   "cell_type": "code",
   "execution_count": 2,
   "id": "0a93cb04",
   "metadata": {},
   "outputs": [
    {
     "name": "stdout",
     "output_type": "stream",
     "text": [
      "Convertidor de Celsius y Fahrenheit\n",
      "Temperatura en celsius: -5.0º\n"
     ]
    }
   ],
   "source": [
    "print(\"Convertidor de Celsius y Fahrenheit\")\n",
    "unidad = input('¿A qué estás convirtiendo? (C)/(F) ').upper()\n",
    "temperatura = float(input(f\"Ingresa la temperatura ({unidad}): \"))\n",
    "\n",
    "if unidad == \"C\":\n",
    "    celsius = (temperatura- 32) * 5 / 9\n",
    "    print(f\"Temperatura en celsius: {celsius}º\")\n",
    "elif unidad == \"F\":\n",
    "    fahrenheit = (temperatura * 9 / 5) + 32\n",
    "    print(f\"Temperatura en fahrenheit: {fahrenheit}\")\n",
    "else:\n",
    "    print(\"Lo siento, no entiendo\")"
   ]
  },
  {
   "cell_type": "code",
   "execution_count": 14,
   "id": "ff21edc9",
   "metadata": {},
   "outputs": [
    {
     "name": "stdout",
     "output_type": "stream",
     "text": [
      "El cuadrado de 2 es: 4\n"
     ]
    }
   ],
   "source": [
    "numero = int(input(\"\"))\n",
    "\n",
    "cuadrado = numero ** 2\n",
    "\n",
    "print('El cuadrado de',numero,'es:',cuadrado)"
   ]
  },
  {
   "cell_type": "code",
   "execution_count": null,
   "id": "ceed577e",
   "metadata": {},
   "outputs": [
    {
     "name": "stdout",
     "output_type": "stream",
     "text": [
      "Mayor de edad\n"
     ]
    }
   ],
   "source": [
    "def mayor_edad():\n",
    "    edad = int(input(\"Introduce tu edad\"))\n",
    "\n",
    "    if edad >=18:\n",
    "        print(\"Eres mayor de edad\")\n",
    "    else:\n",
    "        print(\"Eres menor de edad\")\n",
    "\n",
    "mayor_edad()"
   ]
  },
  {
   "cell_type": "code",
   "execution_count": 31,
   "id": "a97578b1",
   "metadata": {},
   "outputs": [
    {
     "name": "stdout",
     "output_type": "stream",
     "text": [
      "8 es mayor que 3\n"
     ]
    }
   ],
   "source": [
    "x = int(input(\"¿Cuál es el primer número?\"))\n",
    "y = int(input(\"¿Cuál es el segundo número?\"))\n",
    "if x>y:\n",
    "  print(x ,'es mayor que', y)\n",
    "elif x<y:\n",
    "  print( x,'es menor que', y)\n",
    "else:\n",
    "  print('Es el mismo número.')"
   ]
  },
  {
   "cell_type": "code",
   "execution_count": 40,
   "id": "356f8120",
   "metadata": {},
   "outputs": [
    {
     "name": "stdout",
     "output_type": "stream",
     "text": [
      "La suma de 3.0 + 7.0 es 10.0\n"
     ]
    }
   ],
   "source": [
    "a = float(input(\"Ingresa un numero:\"))\n",
    "\n",
    "b = float(input(\"Ingresa otro numero:\"))\n",
    "\n",
    "Suma = a+b\n",
    "\n",
    "print(\"La suma de\", a, \"+\", b ,\"es\", Suma)"
   ]
  },
  {
   "cell_type": "code",
   "execution_count": null,
   "id": "526e3684",
   "metadata": {},
   "outputs": [],
   "source": []
  }
 ],
 "metadata": {
  "kernelspec": {
   "display_name": "Python 3",
   "language": "python",
   "name": "python3"
  },
  "language_info": {
   "codemirror_mode": {
    "name": "ipython",
    "version": 3
   },
   "file_extension": ".py",
   "mimetype": "text/x-python",
   "name": "python",
   "nbconvert_exporter": "python",
   "pygments_lexer": "ipython3",
   "version": "3.13.1"
  }
 },
 "nbformat": 4,
 "nbformat_minor": 5
}
